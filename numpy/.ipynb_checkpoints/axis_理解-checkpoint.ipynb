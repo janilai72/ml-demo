{
 "cells": [
  {
   "cell_type": "code",
   "execution_count": 1,
   "metadata": {},
   "outputs": [],
   "source": [
    "import numpy as np "
   ]
  },
  {
   "cell_type": "markdown",
   "metadata": {},
   "source": [
    "在numpy tensorflow 对矩阵sum,mean,min,max，concat等经常涉及到axis参数，axis 相当与维度的索引 \n",
    "如 张量 （2,4,3）三维 \n",
    "axis=0 表示第一维 array[0,:,:]\n",
    "axis=1 第二维 \n",
    "axis=2 第三维 "
   ]
  },
  {
   "cell_type": "code",
   "execution_count": 3,
   "metadata": {},
   "outputs": [
    {
     "data": {
      "text/plain": [
       "(2, 4, 2)"
      ]
     },
     "execution_count": 3,
     "metadata": {},
     "output_type": "execute_result"
    }
   ],
   "source": [
    "arr = np.arange(16).reshape(2,4,2)\n",
    "arr.shape"
   ]
  },
  {
   "cell_type": "code",
   "execution_count": 4,
   "metadata": {},
   "outputs": [
    {
     "data": {
      "text/plain": [
       "array([[[ 0,  1],\n",
       "        [ 2,  3],\n",
       "        [ 4,  5],\n",
       "        [ 6,  7]],\n",
       "\n",
       "       [[ 8,  9],\n",
       "        [10, 11],\n",
       "        [12, 13],\n",
       "        [14, 15]]])"
      ]
     },
     "execution_count": 4,
     "metadata": {},
     "output_type": "execute_result"
    }
   ],
   "source": [
    "arr"
   ]
  },
  {
   "cell_type": "code",
   "execution_count": 5,
   "metadata": {},
   "outputs": [
    {
     "name": "stdout",
     "output_type": "stream",
     "text": [
      "sum_axis_0 [[ 8 10]\n",
      " [12 14]\n",
      " [16 18]\n",
      " [20 22]]\n",
      "shape: (4, 2)\n"
     ]
    }
   ],
   "source": [
    "sum_axis_0 =  arr.sum(axis=0)\n",
    "print(\"sum_axis_0\",sum_axis_0)\n",
    "print(\"shape:\",sum_axis_0.shape)"
   ]
  },
  {
   "cell_type": "code",
   "execution_count": 6,
   "metadata": {},
   "outputs": [
    {
     "name": "stdout",
     "output_type": "stream",
     "text": [
      "[[ 8 10]\n",
      " [12 14]\n",
      " [16 18]\n",
      " [20 22]]\n"
     ]
    }
   ],
   "source": [
    "axis_0_0 = arr[0,:,:]\n",
    "axis_0_1 = arr[1,:,:]\n",
    "print(axis_0_0+axis_0_1)"
   ]
  },
  {
   "cell_type": "code",
   "execution_count": 7,
   "metadata": {},
   "outputs": [
    {
     "name": "stdout",
     "output_type": "stream",
     "text": [
      "sum_axis_0 [[12 16]\n",
      " [44 48]]\n",
      "shape: (2, 2)\n"
     ]
    }
   ],
   "source": [
    "sum_axis_1 =  arr.sum(axis=1)\n",
    "print(\"sum_axis_0\",sum_axis_1)\n",
    "print(\"shape:\",sum_axis_1.shape)"
   ]
  },
  {
   "cell_type": "code",
   "execution_count": 8,
   "metadata": {},
   "outputs": [
    {
     "name": "stdout",
     "output_type": "stream",
     "text": [
      "[[12 16]\n",
      " [44 48]]\n"
     ]
    }
   ],
   "source": [
    "axis_1_0 = arr[:,0,:]\n",
    "axis_1_1 = arr[:,1,:]\n",
    "axis_1_2 = arr[:,2,:]\n",
    "axis_1_3 = arr[:,3,:]\n",
    "print(axis_1_0+axis_1_1+axis_1_2+axis_1_3)"
   ]
  },
  {
   "cell_type": "code",
   "execution_count": 10,
   "metadata": {},
   "outputs": [
    {
     "name": "stdout",
     "output_type": "stream",
     "text": [
      "sum_axis_0 [[ 1  5  9 13]\n",
      " [17 21 25 29]]\n",
      "shape: (2, 4)\n"
     ]
    }
   ],
   "source": [
    "sum_axis_2 = arr.sum(axis=2)\n",
    "print(\"sum_axis_0\",sum_axis_2)\n",
    "print(\"shape:\",sum_axis_2.shape)\n"
   ]
  },
  {
   "cell_type": "code",
   "execution_count": 11,
   "metadata": {},
   "outputs": [
    {
     "name": "stdout",
     "output_type": "stream",
     "text": [
      "[[ 1  5  9 13]\n",
      " [17 21 25 29]]\n"
     ]
    }
   ],
   "source": [
    "axis_2_0 = arr[:,:,0]\n",
    "axis_2_1 = arr[:,:,1]\n",
    "print(axis_2_0+axis_2_1)"
   ]
  }
 ],
 "metadata": {
  "kernelspec": {
   "display_name": "Python 3",
   "language": "python",
   "name": "python3"
  },
  "language_info": {
   "codemirror_mode": {
    "name": "ipython",
    "version": 3
   },
   "file_extension": ".py",
   "mimetype": "text/x-python",
   "name": "python",
   "nbconvert_exporter": "python",
   "pygments_lexer": "ipython3",
   "version": "3.6.8"
  }
 },
 "nbformat": 4,
 "nbformat_minor": 2
}
